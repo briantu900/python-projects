{
  "nbformat": 4,
  "nbformat_minor": 0,
  "metadata": {
    "colab": {
      "provenance": []
    },
    "kernelspec": {
      "name": "python3",
      "display_name": "Python 3"
    },
    "language_info": {
      "name": "python"
    }
  },
  "cells": [
    {
      "cell_type": "code",
      "source": [
        "import operator\n",
        "ops = { \"+\": operator.add,\n",
        "       \"-\": operator.sub,\n",
        "        \"*\": operator.mul,\n",
        "        \"/\": operator.truediv}\n",
        "\n",
        "num1 = input('enter first number:')\n",
        "num2 = input('enter second number:')\n",
        "operator = input('select operator (+ - * /)')\n",
        "try:\n",
        "  if num1.isdigit() and num2.isdigit():\n",
        "    print('valid input')\n",
        "except:\n",
        "  print('please enter valid numbers')\n",
        "try:\n",
        "  num1 = int(num1)\n",
        "  num2 = int(num2)\n",
        "except:\n",
        "  num1 = float(num1)\n",
        "  num2 = float(num1)\n",
        "try:\n",
        "  print(ops[operator](num1,num2))\n",
        "except:\n",
        "    print('invalid operator')"
      ],
      "metadata": {
        "colab": {
          "base_uri": "https://localhost:8080/"
        },
        "id": "uJV0QGsS3xyq",
        "outputId": "9051edac-a49a-4de4-eebc-bbbc79bb113f"
      },
      "execution_count": 2,
      "outputs": [
        {
          "output_type": "stream",
          "name": "stdout",
          "text": [
            "enter first number:1\n",
            "enter second number:2\n",
            "select operator (+ - * /)*\n",
            "valid numbers\n",
            "2\n"
          ]
        }
      ]
    }
  ]
}